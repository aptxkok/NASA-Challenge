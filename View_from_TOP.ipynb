{
 "cells": [
  {
   "cell_type": "code",
   "execution_count": 1,
   "metadata": {},
   "outputs": [],
   "source": [
    "import requests\n",
    "import json\n",
    "import pandas as pd\n",
    "\n",
    "def satellite_gps(NORAD_id, name):\n",
    "\n",
    "    url = 'https://www.n2yo.com/sat/instant-tracking.php?s='+NORAD_id+'&d=1'\n",
    "    req = requests.get(url)\n",
    "    data = json.loads(req.text)\n",
    "    values = data[0]['pos'][-1]['d'].split('|')\n",
    "    values.append(name)\n",
    "    \n",
    "    columns = ['latitude', 'longitude', 'azimuth', 'elevation',\n",
    "        'right_ascension', 'declination', 'altitude_km', 'x01',\n",
    "        'NORAD_id', 'timestamp', 'x02', 'x03', 'x04', 'x05', 'x06', 'name']\n",
    "    df = pd.DataFrame([values], columns=columns)\n",
    "    df = df.drop(['x01', 'x02', 'x03', 'x04', 'x05', 'x06'], axis=1)\n",
    "    \n",
    "    return df"
   ]
  },
  {
   "cell_type": "code",
   "execution_count": 2,
   "metadata": {},
   "outputs": [],
   "source": [
    "df01 = satellite_gps('43589', 'BIRD-MY (UiTMSAT-1)')\n",
    "df02 = satellite_gps('40147', 'MEASAT 3B')\n",
    "df03 = satellite_gps('35578', 'RAZAKSAT')\n",
    "df04 = satellite_gps('35362', 'MEASAT 3A')\n",
    "df05 = satellite_gps('29648', 'MEASAT 3')\n",
    "df06 = satellite_gps('26548', 'TIUNGSAT 1')\n",
    "df07 = satellite_gps('24653', 'MEASAT 2')\n",
    "df08 = satellite_gps('23765', 'AFRICASAT 1 (MEASAT 1)')"
   ]
  },
  {
   "cell_type": "code",
   "execution_count": 3,
   "metadata": {},
   "outputs": [
    {
     "data": {
      "text/plain": [
       "0    <folium.vector_layers.CircleMarker object at 0...\n",
       "dtype: object"
      ]
     },
     "execution_count": 3,
     "metadata": {},
     "output_type": "execute_result"
    }
   ],
   "source": [
    "import folium\n",
    "\n",
    "map01 = folium.Map(location=[3.157548, 101.711635])\n",
    "\n",
    "df01.apply(lambda row: folium.CircleMarker(\n",
    "    location=[row[\"latitude\"], row['longitude']],\n",
    "    popup=row['name'])\n",
    "    .add_to(map01), axis=1)\n",
    "\n",
    "df02.apply(lambda row: folium.CircleMarker(\n",
    "    location=[row[\"latitude\"], row['longitude']],\n",
    "    popup=row['name'])\n",
    "    .add_to(map01), axis=1)\n",
    "\n",
    "df03.apply(lambda row: folium.CircleMarker(\n",
    "    location=[row[\"latitude\"], row['longitude']],\n",
    "    popup=row['name'])\n",
    "    .add_to(map01), axis=1)\n",
    "\n",
    "df04.apply(lambda row: folium.CircleMarker(\n",
    "    location=[row[\"latitude\"], row['longitude']],\n",
    "    popup=row['name'])\n",
    "    .add_to(map01), axis=1)\n",
    "\n",
    "df05.apply(lambda row: folium.CircleMarker(\n",
    "    location=[row[\"latitude\"], row['longitude']],\n",
    "    popup=row['name'])\n",
    "    .add_to(map01), axis=1)\n",
    "\n",
    "df06.apply(lambda row: folium.CircleMarker(\n",
    "    location=[row[\"latitude\"], row['longitude']],\n",
    "    popup=row['name'])\n",
    "    .add_to(map01), axis=1)\n",
    "\n",
    "df07.apply(lambda row: folium.CircleMarker(\n",
    "    location=[row[\"latitude\"], row['longitude']],\n",
    "    popup=row['name'])\n",
    "    .add_to(map01), axis=1)\n",
    "\n",
    "df08.apply(lambda row: folium.CircleMarker(\n",
    "    location=[row[\"latitude\"], row['longitude']],\n",
    "    popup=row['name'])\n",
    "    .add_to(map01), axis=1)"
   ]
  },
  {
   "cell_type": "code",
   "execution_count": 5,
   "metadata": {},
   "outputs": [
    {
     "data": {
      "text/html": [
       "<div style=\"width:100%;\"><div style=\"position:relative;width:100%;height:0;padding-bottom:60%;\"><span style=\"color:#565656\">Make this Notebook Trusted to load map: File -> Trust Notebook</span><iframe src=\"about:blank\" style=\"position:absolute;width:100%;height:100%;left:0;top:0;border:none !important;\" data-html=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 onload=\"this.contentDocument.open();this.contentDocument.write(atob(this.getAttribute('data-html')));this.contentDocument.close();\" allowfullscreen webkitallowfullscreen mozallowfullscreen></iframe></div></div>"
      ],
      "text/plain": [
       "<folium.folium.Map at 0x7f104575e100>"
      ]
     },
     "execution_count": 5,
     "metadata": {},
     "output_type": "execute_result"
    }
   ],
   "source": [
    "map01"
   ]
  },
  {
   "cell_type": "code",
   "execution_count": 6,
   "metadata": {},
   "outputs": [],
   "source": [
    "map01.save('./TOP_satellite_map.html')"
   ]
  },
  {
   "cell_type": "code",
   "execution_count": null,
   "metadata": {},
   "outputs": [],
   "source": []
  }
 ],
 "metadata": {
  "kernelspec": {
   "display_name": "Python 3",
   "language": "python",
   "name": "python3"
  },
  "language_info": {
   "codemirror_mode": {
    "name": "ipython",
    "version": 3
   },
   "file_extension": ".py",
   "mimetype": "text/x-python",
   "name": "python",
   "nbconvert_exporter": "python",
   "pygments_lexer": "ipython3",
   "version": "3.8.5"
  }
 },
 "nbformat": 4,
 "nbformat_minor": 4
}
